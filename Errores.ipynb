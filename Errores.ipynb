{
 "cells": [
  {
   "cell_type": "code",
   "execution_count": 1,
   "id": "placed-booking",
   "metadata": {
    "scrolled": true
   },
   "outputs": [
    {
     "name": "stdout",
     "output_type": "stream",
     "text": [
      "Ingrese el valor real: 10\n",
      "Ingrese el valor aproximado: 9\n",
      "\n",
      "Error absoluto: 1.0\n",
      "Error relativo: 0.1\n",
      "Error porcentual: 10.0%\n"
     ]
    }
   ],
   "source": [
    "#Metodos\n",
    "def absoluto(r,a):\n",
    "    return r - a\n",
    "\n",
    "def relativo(r,a):\n",
    "    return (r - a) / r\n",
    "\n",
    "def porcentual(r,a):\n",
    "    return ((r - a) / r)*100\n",
    "\n",
    "\n",
    "#Datos de entrada\n",
    "real = float(input(\"Ingrese el valor real: \"))\n",
    "aproximado = float(input(\"Ingrese el valor aproximado: \"))\n",
    "\n",
    "\n",
    "#Salida de datos\n",
    "print()\n",
    "print(\"Error absoluto: \" + str(absoluto(real,aproximado)))\n",
    "print(\"Error relativo: \" + str(relativo(real,aproximado)))\n",
    "print(\"Error porcentual: \" + str(porcentual(real,aproximado))+\"%\")"
   ]
  }
 ],
 "metadata": {
  "kernelspec": {
   "display_name": "Python 3",
   "language": "python",
   "name": "python3"
  },
  "language_info": {
   "codemirror_mode": {
    "name": "ipython",
    "version": 3
   },
   "file_extension": ".py",
   "mimetype": "text/x-python",
   "name": "python",
   "nbconvert_exporter": "python",
   "pygments_lexer": "ipython3",
   "version": "3.9.2"
  }
 },
 "nbformat": 4,
 "nbformat_minor": 5
}
